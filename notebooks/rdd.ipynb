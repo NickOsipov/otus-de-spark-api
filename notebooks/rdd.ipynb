{
 "cells": [
  {
   "cell_type": "markdown",
   "metadata": {},
   "source": [
    "# PySpark - Работа с RDD (Resilient Distributed Datasets)"
   ]
  },
  {
   "cell_type": "markdown",
   "metadata": {},
   "source": [
    "## Введение в RDD\n",
    "RDD (Resilient Distributed Datasets) - это основная абстракция в Apache Spark. RDD представляет собой неизменяемую распределенную коллекцию объектов, которая может обрабатываться параллельно. В этом ноутбуке мы рассмотрим основные концепции и операции с RDD в PySpark.\n",
    "\n",
    "## Содержание\n",
    "1. Инициализация Spark и создание SparkContext\n",
    "2. Создание RDD\n",
    "3. Базовые операции с RDD\n",
    "4. Трансформации RDD\n",
    "5. Actions (действия) над RDD\n",
    "6. Парные RDD и операции с ключами\n",
    "7. Сохранение и загрузка RDD\n",
    "8. Практические примеры"
   ]
  },
  {
   "cell_type": "markdown",
   "metadata": {},
   "source": [
    "## 1. Инициализация Spark и создание SparkContext"
   ]
  },
  {
   "cell_type": "code",
   "execution_count": null,
   "metadata": {},
   "outputs": [],
   "source": [
    "!pip install findspark numpy matplotlib pandas"
   ]
  },
  {
   "cell_type": "code",
   "execution_count": null,
   "metadata": {},
   "outputs": [],
   "source": [
    "import findspark\n",
    "findspark.init()"
   ]
  },
  {
   "cell_type": "code",
   "execution_count": null,
   "metadata": {},
   "outputs": [],
   "source": [
    "# Импорт необходимых библиотек\n",
    "\n",
    "from pyspark import SparkConf, SparkContext\n",
    "import os\n",
    "import random\n",
    "import numpy as np\n",
    "import matplotlib.pyplot as plt\n",
    "%matplotlib inline"
   ]
  },
  {
   "cell_type": "code",
   "execution_count": null,
   "metadata": {},
   "outputs": [],
   "source": [
    "# Создание SparkConf и SparkContext\n",
    "conf = SparkConf().setAppName(\"RDD Practice\").setMaster(\"local[*]\")\n",
    "sc = SparkContext(conf=conf)\n",
    "\n",
    "# Проверка версии Spark\n",
    "print(f\"Spark Version: {sc.version}\")"
   ]
  },
  {
   "cell_type": "markdown",
   "metadata": {},
   "source": [
    "## 2. Создание RDD\n",
    "Существует несколько способов создания RDD в Spark:\n",
    "\n",
    "### Создание RDD из коллекции Python"
   ]
  },
  {
   "cell_type": "code",
   "execution_count": null,
   "metadata": {},
   "outputs": [],
   "source": [
    "# Создание RDD из Python-списка\n",
    "data = [1, 2, 3, 4, 5]\n",
    "rdd = sc.parallelize(data)\n",
    "print(f\"RDD: {rdd}\")\n",
    "print(f\"RDD Content: {rdd.collect()}\")"
   ]
  },
  {
   "cell_type": "markdown",
   "metadata": {},
   "source": [
    "### Создание RDD из внешних файлов"
   ]
  },
  {
   "cell_type": "code",
   "execution_count": null,
   "metadata": {},
   "outputs": [],
   "source": [
    "# Создадим текстовый файл для примера\n",
    "!echo \"Hello Spark\" > example.txt\n",
    "!echo \"RDD is fundamental abstraction in Spark\" >> example.txt\n",
    "!echo \"It represents a resilient distributed dataset\" >> example.txt\n",
    "# если выполняем на кластере, то используем hdfs\n",
    "!hdfs dfs -ls /user\n",
    "!hdfs dfs -mkdir -p /user/ubuntu\n",
    "!hadoop fs -put -f example.txt /user/ubuntu/example.txt"
   ]
  },
  {
   "cell_type": "code",
   "execution_count": null,
   "metadata": {},
   "outputs": [],
   "source": [
    "# Создание RDD из текстового файла\n",
    "text_rdd = sc.textFile(\"example.txt\")\n",
    "print(f\"Text RDD Content: {text_rdd.collect()}\")"
   ]
  },
  {
   "cell_type": "markdown",
   "metadata": {},
   "source": [
    "### Создание RDD с определенным числом партиций"
   ]
  },
  {
   "cell_type": "code",
   "execution_count": null,
   "metadata": {},
   "outputs": [],
   "source": [
    "# Создание RDD с 4 партициями\n",
    "data_partitioned = sc.parallelize(range(10), 4)\n",
    "print(f\"Number of partitions: {data_partitioned.getNumPartitions()}\")\n",
    "print(f\"Partitioned RDD content: {data_partitioned.collect()}\")\n",
    "print(f\"Partitioned RDD glom: {data_partitioned.glom().collect()}\")"
   ]
  },
  {
   "cell_type": "markdown",
   "metadata": {},
   "source": [
    "## 3. Базовые операции с RDD\n",
    "\n",
    "### Информация об RDD"
   ]
  },
  {
   "cell_type": "code",
   "execution_count": null,
   "metadata": {},
   "outputs": [],
   "source": [
    "# Получение информации о партициях\n",
    "num_partitions = rdd.getNumPartitions()\n",
    "print(f\"Number of partitions: {num_partitions}\")\n",
    "\n",
    "# Оценка размера RDD\n",
    "print(f\"RDD count: {rdd.count()}\")\n",
    "\n",
    "# Просмотр содержимого партиций с помощью glom()\n",
    "print(f\"Content of each partition: {rdd.glom().collect()}\")"
   ]
  },
  {
   "cell_type": "markdown",
   "metadata": {},
   "source": [
    "## 4. Трансформации RDD\n",
    "Трансформации создают новый RDD из существующего. Они являются \"ленивыми\", то есть вычисляются только при вызове действия.\n",
    "\n",
    "### map() - применение функции к каждому элементу\n"
   ]
  },
  {
   "cell_type": "code",
   "execution_count": null,
   "metadata": {},
   "outputs": [],
   "source": [
    "# Применение функции map для возведения в квадрат\n",
    "squared_rdd = rdd.map(lambda x: x**2)\n",
    "print(f\"Original RDD: {rdd.collect()}\")\n",
    "print(f\"Squared RDD: {squared_rdd.collect()}\")"
   ]
  },
  {
   "cell_type": "markdown",
   "metadata": {},
   "source": [
    "### filter() - фильтрация элементов по условию"
   ]
  },
  {
   "cell_type": "code",
   "execution_count": null,
   "metadata": {},
   "outputs": [],
   "source": [
    "# Фильтрация четных чисел\n",
    "even_rdd = rdd.filter(lambda x: x % 2 == 0)\n",
    "print(f\"Original RDD: {rdd.collect()}\")\n",
    "print(f\"Even numbers only: {even_rdd.collect()}\")"
   ]
  },
  {
   "cell_type": "markdown",
   "metadata": {},
   "source": [
    "### flatMap() - генерация 0 или более выходных элементов из каждого входного"
   ]
  },
  {
   "cell_type": "code",
   "execution_count": null,
   "metadata": {},
   "outputs": [],
   "source": [
    "# Разделение строк на слова с помощью flatMap\n",
    "words_rdd = text_rdd.flatMap(lambda line: line.split())\n",
    "print(f\"Original text RDD: {text_rdd.collect()}\")\n",
    "print(f\"Words RDD (after flatMap): {words_rdd.collect()}\")"
   ]
  },
  {
   "cell_type": "markdown",
   "metadata": {},
   "source": [
    "### distinct() - удаление дубликатов"
   ]
  },
  {
   "cell_type": "code",
   "execution_count": 16,
   "metadata": {},
   "outputs": [],
   "source": [
    "# Создание RDD с дубликатами\n",
    "dup_data = [1, 2, 2, 3, 3, 3, 4, 5, 5]\n",
    "dup_rdd = sc.parallelize(dup_data)"
   ]
  },
  {
   "cell_type": "code",
   "execution_count": 17,
   "metadata": {},
   "outputs": [
    {
     "name": "stdout",
     "output_type": "stream",
     "text": [
      "RDD with duplicates: [1, 2, 2, 3, 3, 3, 4, 5, 5]\n",
      "RDD after distinct(): [4, 1, 5, 2, 3]\n"
     ]
    }
   ],
   "source": [
    "# Получение уникальных элементов\n",
    "distinct_rdd = dup_rdd.distinct()\n",
    "print(f\"RDD with duplicates: {dup_rdd.collect()}\")\n",
    "print(f\"RDD after distinct(): {distinct_rdd.collect()}\")"
   ]
  },
  {
   "cell_type": "markdown",
   "metadata": {},
   "source": [
    "### sample() - выборка элементов"
   ]
  },
  {
   "cell_type": "code",
   "execution_count": 18,
   "metadata": {},
   "outputs": [
    {
     "name": "stdout",
     "output_type": "stream",
     "text": [
      "Sample with replacement: [4]\n"
     ]
    }
   ],
   "source": [
    "# Выборка с заменой\n",
    "sample_with_replacement = rdd.sample(True, 0.5, seed=42)\n",
    "print(f\"Sample with replacement: {sample_with_replacement.collect()}\")"
   ]
  },
  {
   "cell_type": "code",
   "execution_count": 19,
   "metadata": {},
   "outputs": [
    {
     "name": "stdout",
     "output_type": "stream",
     "text": [
      "Sample without replacement: [1]\n"
     ]
    }
   ],
   "source": [
    "# Выборка без замены\n",
    "sample_without_replacement = rdd.sample(False, 0.5, seed=42)\n",
    "print(f\"Sample without replacement: {sample_without_replacement.collect()}\")"
   ]
  },
  {
   "cell_type": "markdown",
   "metadata": {},
   "source": [
    "### union(), intersection(), subtract() - теоретико-множественные операции"
   ]
  },
  {
   "cell_type": "code",
   "execution_count": 20,
   "metadata": {},
   "outputs": [],
   "source": [
    "# Создание второго RDD\n",
    "rdd2 = sc.parallelize([3, 4, 5, 6, 7])"
   ]
  },
  {
   "cell_type": "code",
   "execution_count": 21,
   "metadata": {},
   "outputs": [
    {
     "name": "stdout",
     "output_type": "stream",
     "text": [
      "RDD1: [1, 2, 3, 4, 5]\n",
      "RDD2: [3, 4, 5, 6, 7]\n",
      "Union: [1, 2, 3, 4, 5, 3, 4, 5, 6, 7]\n"
     ]
    }
   ],
   "source": [
    "# Объединение RDD\n",
    "union_rdd = rdd.union(rdd2)\n",
    "print(f\"RDD1: {rdd.collect()}\")\n",
    "print(f\"RDD2: {rdd2.collect()}\")\n",
    "print(f\"Union: {union_rdd.collect()}\")\n"
   ]
  },
  {
   "cell_type": "code",
   "execution_count": 22,
   "metadata": {},
   "outputs": [
    {
     "name": "stdout",
     "output_type": "stream",
     "text": [
      "Intersection: [3, 4, 5]\n"
     ]
    }
   ],
   "source": [
    "# Пересечение RDD\n",
    "intersection_rdd = rdd.intersection(rdd2)\n",
    "print(f\"Intersection: {intersection_rdd.collect()}\")\n"
   ]
  },
  {
   "cell_type": "code",
   "execution_count": 23,
   "metadata": {},
   "outputs": [
    {
     "name": "stdout",
     "output_type": "stream",
     "text": [
      "RDD1 - RDD2: [1, 2]\n"
     ]
    }
   ],
   "source": [
    "# Разность RDD\n",
    "subtract_rdd = rdd.subtract(rdd2)\n",
    "print(f\"RDD1 - RDD2: {subtract_rdd.collect()}\")\n"
   ]
  },
  {
   "cell_type": "markdown",
   "metadata": {},
   "source": [
    "\n",
    "## 5. Actions (действия) над RDD\n",
    "Действия возвращают значения из RDD в программу драйвера или записывают их во внешнюю систему хранения. Они запускают вычисления.\n",
    "\n",
    "### collect() - получение всех элементов\n",
    "\n"
   ]
  },
  {
   "cell_type": "code",
   "execution_count": 24,
   "metadata": {},
   "outputs": [
    {
     "name": "stdout",
     "output_type": "stream",
     "text": [
      "Collected data: [1, 2, 3, 4, 5]\n"
     ]
    }
   ],
   "source": [
    "# Сбор всех элементов RDD в драйвер\n",
    "collected_data = rdd.collect()\n",
    "print(f\"Collected data: {collected_data}\")"
   ]
  },
  {
   "cell_type": "markdown",
   "metadata": {},
   "source": [
    "### count() - подсчет элементов\n"
   ]
  },
  {
   "cell_type": "code",
   "execution_count": 25,
   "metadata": {},
   "outputs": [
    {
     "name": "stdout",
     "output_type": "stream",
     "text": [
      "Count: 5\n"
     ]
    }
   ],
   "source": [
    "# Подсчет количества элементов\n",
    "count = rdd.count()\n",
    "print(f\"Count: {count}\")"
   ]
  },
  {
   "cell_type": "markdown",
   "metadata": {},
   "source": [
    "### first() - получение первого элемента\n"
   ]
  },
  {
   "cell_type": "code",
   "execution_count": 26,
   "metadata": {},
   "outputs": [
    {
     "name": "stdout",
     "output_type": "stream",
     "text": [
      "First element: 1\n"
     ]
    }
   ],
   "source": [
    "# Получение первого элемента\n",
    "first_element = rdd.first()\n",
    "print(f\"First element: {first_element}\")\n"
   ]
  },
  {
   "cell_type": "markdown",
   "metadata": {},
   "source": [
    "### take(n) - получение n элементов"
   ]
  },
  {
   "cell_type": "code",
   "execution_count": 27,
   "metadata": {},
   "outputs": [
    {
     "name": "stdout",
     "output_type": "stream",
     "text": [
      "First 3 elements: [1, 2, 3]\n"
     ]
    }
   ],
   "source": [
    "# Получение первых n элементов\n",
    "first_3 = rdd.take(3)\n",
    "print(f\"First 3 elements: {first_3}\")\n"
   ]
  },
  {
   "cell_type": "markdown",
   "metadata": {},
   "source": [
    "### reduce() - агрегирование элементов"
   ]
  },
  {
   "cell_type": "code",
   "execution_count": 28,
   "metadata": {},
   "outputs": [
    {
     "name": "stdout",
     "output_type": "stream",
     "text": [
      "Sum of all elements: 15\n",
      "Product of all elements: 120\n"
     ]
    }
   ],
   "source": [
    "# Сумма всех элементов с помощью reduce\n",
    "sum_of_elements = rdd.reduce(lambda a, b: a + b)\n",
    "print(f\"Sum of all elements: {sum_of_elements}\")\n",
    "\n",
    "# Произведение всех элементов\n",
    "product_of_elements = rdd.reduce(lambda a, b: a * b)\n",
    "print(f\"Product of all elements: {product_of_elements}\")"
   ]
  },
  {
   "cell_type": "markdown",
   "metadata": {},
   "source": [
    "### foreach() - выполнение действия для каждого элемента"
   ]
  },
  {
   "cell_type": "code",
   "execution_count": 29,
   "metadata": {},
   "outputs": [],
   "source": [
    "# Вывод каждого элемента (в логи исполнителей, не в драйвер)\n",
    "rdd.foreach(lambda x: print(f\"Element: {x}\"))"
   ]
  },
  {
   "cell_type": "markdown",
   "metadata": {},
   "source": [
    "## 6. Парные RDD и операции с ключами\n",
    "Парные RDD - это RDD, элементами которого являются пары (ключ, значение). Они поддерживают особые операции, такие как groupByKey, reduceByKey и др.\n",
    "\n",
    "### Создание парного RDD\n",
    "\n"
   ]
  },
  {
   "cell_type": "code",
   "execution_count": 30,
   "metadata": {},
   "outputs": [
    {
     "name": "stdout",
     "output_type": "stream",
     "text": [
      "Pairs RDD: [('a', 1), ('b', 2), ('a', 3), ('c', 4), ('b', 5), ('c', 6)]\n"
     ]
    }
   ],
   "source": [
    "# Создание парного RDD\n",
    "pairs = [(\"a\", 1), (\"b\", 2), (\"a\", 3), (\"c\", 4), (\"b\", 5), (\"c\", 6)]\n",
    "pairs_rdd = sc.parallelize(pairs)\n",
    "print(f\"Pairs RDD: {pairs_rdd.collect()}\")"
   ]
  },
  {
   "cell_type": "markdown",
   "metadata": {},
   "source": [
    "### reduceByKey() - агрегирование значений по ключу"
   ]
  },
  {
   "cell_type": "code",
   "execution_count": 31,
   "metadata": {},
   "outputs": [
    {
     "name": "stdout",
     "output_type": "stream",
     "text": [
      "Sum by key: [('b', 7), ('c', 10), ('a', 4)]\n"
     ]
    }
   ],
   "source": [
    "# Суммирование значений по ключу\n",
    "sums_by_key = pairs_rdd.reduceByKey(lambda a, b: a + b)\n",
    "print(f\"Sum by key: {sums_by_key.collect()}\")"
   ]
  },
  {
   "cell_type": "markdown",
   "metadata": {},
   "source": [
    "### groupByKey() - группировка значений по ключу"
   ]
  },
  {
   "cell_type": "code",
   "execution_count": 32,
   "metadata": {},
   "outputs": [
    {
     "name": "stdout",
     "output_type": "stream",
     "text": [
      "Grouped by key: [('b', [2, 5]), ('c', [4, 6]), ('a', [1, 3])]\n"
     ]
    }
   ],
   "source": [
    "# Группировка значений по ключу\n",
    "grouped_by_key = pairs_rdd.groupByKey().mapValues(list)\n",
    "print(f\"Grouped by key: {grouped_by_key.collect()}\")"
   ]
  },
  {
   "cell_type": "markdown",
   "metadata": {},
   "source": [
    "### sortByKey() - сортировка по ключу"
   ]
  },
  {
   "cell_type": "code",
   "execution_count": 33,
   "metadata": {},
   "outputs": [
    {
     "name": "stdout",
     "output_type": "stream",
     "text": [
      "Sorted by key: [('a', 1), ('a', 3), ('b', 2), ('b', 5), ('c', 4), ('c', 6)]\n",
      "Sorted by key (descending): [('c', 4), ('c', 6), ('b', 2), ('b', 5), ('a', 1), ('a', 3)]\n"
     ]
    }
   ],
   "source": [
    "# Сортировка по ключу\n",
    "sorted_by_key = pairs_rdd.sortByKey()\n",
    "print(f\"Sorted by key: {sorted_by_key.collect()}\")\n",
    "\n",
    "# Сортировка по ключу в обратном порядке\n",
    "sorted_by_key_desc = pairs_rdd.sortByKey(ascending=False)\n",
    "print(f\"Sorted by key (descending): {sorted_by_key_desc.collect()}\")"
   ]
  },
  {
   "cell_type": "markdown",
   "metadata": {},
   "source": [
    "### join() - соединение парных RDD"
   ]
  },
  {
   "cell_type": "code",
   "execution_count": 34,
   "metadata": {},
   "outputs": [],
   "source": [
    "# Создание второго парного RDD\n",
    "pairs2 = [(\"a\", \"apple\"), (\"b\", \"banana\"), (\"c\", \"cherry\")]\n",
    "pairs_rdd2 = sc.parallelize(pairs2)"
   ]
  },
  {
   "cell_type": "code",
   "execution_count": 35,
   "metadata": {},
   "outputs": [
    {
     "name": "stdout",
     "output_type": "stream",
     "text": [
      "RDD1: [('a', 1), ('b', 2), ('a', 3), ('c', 4), ('b', 5), ('c', 6)]\n",
      "RDD2: [('a', 'apple'), ('b', 'banana'), ('c', 'cherry')]\n",
      "Joined RDD: [('a', (1, 'apple')), ('a', (3, 'apple')), ('b', (2, 'banana')), ('b', (5, 'banana')), ('c', (4, 'cherry')), ('c', (6, 'cherry'))]\n"
     ]
    }
   ],
   "source": [
    "# Внутреннее соединение\n",
    "joined_rdd = pairs_rdd.join(pairs_rdd2)\n",
    "print(f\"RDD1: {pairs_rdd.collect()}\")\n",
    "print(f\"RDD2: {pairs_rdd2.collect()}\")\n",
    "print(f\"Joined RDD: {joined_rdd.collect()}\")"
   ]
  },
  {
   "cell_type": "code",
   "execution_count": 36,
   "metadata": {},
   "outputs": [
    {
     "name": "stdout",
     "output_type": "stream",
     "text": [
      "Left joined: [('a', (1, 'apple')), ('a', (3, 'apple')), ('b', (2, 'banana')), ('b', (5, 'banana')), ('c', (4, 'cherry')), ('c', (6, 'cherry'))]\n"
     ]
    }
   ],
   "source": [
    "# Левое внешнее соединение\n",
    "left_joined = pairs_rdd.leftOuterJoin(pairs_rdd2)\n",
    "print(f\"Left joined: {left_joined.collect()}\")"
   ]
  },
  {
   "cell_type": "code",
   "execution_count": 37,
   "metadata": {},
   "outputs": [
    {
     "name": "stdout",
     "output_type": "stream",
     "text": [
      "Right joined: [('a', (1, 'apple')), ('a', (3, 'apple')), ('b', (2, 'banana')), ('b', (5, 'banana')), ('c', (4, 'cherry')), ('c', (6, 'cherry'))]\n"
     ]
    }
   ],
   "source": [
    "# Правое внешнее соединение\n",
    "right_joined = pairs_rdd.rightOuterJoin(pairs_rdd2)\n",
    "print(f\"Right joined: {right_joined.collect()}\")"
   ]
  },
  {
   "cell_type": "markdown",
   "metadata": {},
   "source": [
    "## 7. Сохранение и загрузка RDD\n",
    "\n",
    "### Сохранение в текстовый файл\n",
    "\n"
   ]
  },
  {
   "cell_type": "code",
   "execution_count": 39,
   "metadata": {},
   "outputs": [],
   "source": [
    "# Сохранение RDD в текстовый файл\n",
    "sums_by_key.saveAsTextFile(\"key_sums.txt\")"
   ]
  },
  {
   "cell_type": "code",
   "execution_count": 42,
   "metadata": {},
   "outputs": [
    {
     "name": "stdout",
     "output_type": "stream",
     "text": [
      "ls: cannot access 'key_sums': No such file or directory\n"
     ]
    }
   ],
   "source": [
    "# Просмотр сохраненных файлов\n",
    "!ls -l key_sums"
   ]
  },
  {
   "cell_type": "code",
   "execution_count": null,
   "metadata": {},
   "outputs": [],
   "source": [
    "# Просмотр содержимого сохраненных файлов\n",
    "!cat key_sums/part-*"
   ]
  },
  {
   "cell_type": "code",
   "execution_count": null,
   "metadata": {},
   "outputs": [],
   "source": [
    "# Удаление созданных файлов\n",
    "!rm -rf key_sums/\n",
    "!rm example.txt"
   ]
  },
  {
   "cell_type": "markdown",
   "metadata": {},
   "source": [
    "## 8. Практические примеры\n",
    "\n",
    "### Пример 1: Подсчет слов в тексте"
   ]
  },
  {
   "cell_type": "code",
   "execution_count": 43,
   "metadata": {},
   "outputs": [],
   "source": [
    "# Создадим текстовый файл с примером текста\n",
    "text = \"\"\"\n",
    "Apache Spark is an open-source unified analytics engine for large-scale data processing.\n",
    "Spark provides an interface for programming entire clusters with implicit data parallelism and fault tolerance.\n",
    "Originally developed at the University of California, Berkeley's AMPLab, the Spark codebase was later donated to the Apache Software Foundation, which has maintained it since.\n",
    "Spark provides an interface for programming entire clusters with implicit data parallelism and fault tolerance.\n",
    "\"\"\"\n",
    "\n",
    "with open(\"spark_text.txt\", \"w\") as f:\n",
    "    f.write(text)"
   ]
  },
  {
   "cell_type": "code",
   "execution_count": 44,
   "metadata": {},
   "outputs": [],
   "source": [
    "!hadoop fs -put -f spark_text.txt /user/ubuntu/spark_text.txt"
   ]
  },
  {
   "cell_type": "code",
   "execution_count": 45,
   "metadata": {},
   "outputs": [
    {
     "name": "stdout",
     "output_type": "stream",
     "text": [
      "Количество слов в тексте:\n",
      "spark: 4\n",
      "an: 3\n",
      "for: 3\n",
      "data: 3\n",
      "the: 3\n",
      "provides: 2\n",
      "programming: 2\n",
      "entire: 2\n",
      "clusters: 2\n",
      "implicit: 2\n",
      "fault: 2\n",
      "tolerance: 2\n",
      "apache: 2\n",
      "interface: 2\n",
      "with: 2\n",
      "parallelism: 2\n",
      "and: 2\n",
      "is: 1\n",
      "open-source: 1\n",
      "unified: 1\n",
      "analytics: 1\n",
      "engine: 1\n",
      "originally: 1\n",
      "developed: 1\n",
      "at: 1\n",
      "university: 1\n",
      "of: 1\n",
      "codebase: 1\n",
      "was: 1\n",
      "large-scale: 1\n",
      "processing: 1\n",
      "california: 1\n",
      "berkeley's: 1\n",
      "amplab: 1\n",
      "later: 1\n",
      "donated: 1\n",
      "to: 1\n",
      "software: 1\n",
      "foundation: 1\n",
      "which: 1\n",
      "has: 1\n",
      "maintained: 1\n",
      "it: 1\n",
      "since: 1\n"
     ]
    },
    {
     "data": {
      "image/png": "[encoded data removed]",
      "text/plain": [
       "<Figure size 864x432 with 1 Axes>"
      ]
     },
     "metadata": {
      "needs_background": "light"
     },
     "output_type": "display_data"
    }
   ],
   "source": [
    "# Загрузка текста в RDD\n",
    "text_rdd = sc.textFile(\"spark_text.txt\")\n",
    "\n",
    "# Подсчет слов (классическая задача WordCount)\n",
    "word_counts = (text_rdd\n",
    "    .flatMap(lambda line: line.split())\n",
    "    .map(lambda word: (word.lower().strip(\".,;:\\\"\\'()[]{}\"), 1))\n",
    "    .reduceByKey(lambda a, b: a + b)\n",
    "    .sortBy(lambda x: x[1], ascending=False)\n",
    ")\n",
    "\n",
    "\n",
    "print(\"Количество слов в тексте:\")\n",
    "for word, count in word_counts.collect():\n",
    "    print(f\"{word}: {count}\")\n",
    "\n",
    "# Визуализация топ-10 слов\n",
    "top_10_words = word_counts.take(10)\n",
    "words = [word for word, count in top_10_words]\n",
    "counts = [count for word, count in top_10_words]\n",
    "\n",
    "plt.figure(figsize=(12, 6))\n",
    "plt.bar(words, counts)\n",
    "plt.xlabel('Слова')\n",
    "plt.ylabel('Количество')\n",
    "plt.title('Топ-10 слов в тексте')\n",
    "plt.xticks(rotation=45)\n",
    "plt.tight_layout()\n",
    "plt.show()"
   ]
  },
  {
   "cell_type": "markdown",
   "metadata": {},
   "source": [
    "### Пример 2: Оценка числа π методом Монте-Карло"
   ]
  },
  {
   "cell_type": "code",
   "execution_count": 46,
   "metadata": {},
   "outputs": [
    {
     "name": "stdout",
     "output_type": "stream",
     "text": [
      "Оценка числа π методом Монте-Карло: 3.142372\n",
      "Истинное значение π: 3.141592653589793\n",
      "Погрешность: 0.000779346410206827\n"
     ]
    },
    {
     "data": {
      "image/png": "[encoded data removed]",
      "text/plain": [
       "<Figure size 576x576 with 1 Axes>"
      ]
     },
     "metadata": {
      "needs_background": "light"
     },
     "output_type": "display_data"
    }
   ],
   "source": [
    "def inside_circle(p):\n",
    "    \"\"\"Проверяет, находится ли точка p внутри единичной окружности\"\"\"\n",
    "    x, y = p\n",
    "    return x*x + y*y < 1\n",
    "\n",
    "# Число точек для оценки\n",
    "num_samples = 1000000\n",
    "\n",
    "# Генерация случайных точек\n",
    "samples = sc.parallelize([\n",
    "    (random.uniform(-1, 1), random.uniform(-1, 1)) \n",
    "    for _ in range(num_samples)\n",
    "])\n",
    "\n",
    "# Подсчет точек внутри окружности\n",
    "count_inside = samples.filter(inside_circle).count()\n",
    "\n",
    "# Оценка числа π\n",
    "pi_estimate = 4.0 * count_inside / num_samples\n",
    "\n",
    "print(f\"Оценка числа π методом Монте-Карло: {pi_estimate}\")\n",
    "print(f\"Истинное значение π: {np.pi}\")\n",
    "print(f\"Погрешность: {abs(pi_estimate - np.pi)}\")\n",
    "\n",
    "# Визуализация метода Монте-Карло (на меньшем числе точек)\n",
    "visualize_samples = 1000\n",
    "points = [(random.uniform(-1, 1), random.uniform(-1, 1)) for _ in range(visualize_samples)]\n",
    "inside = [p for p in points if inside_circle(p)]\n",
    "outside = [p for p in points if not inside_circle(p)]\n",
    "\n",
    "plt.figure(figsize=(8, 8))\n",
    "plt.scatter([p[0] for p in inside], [p[1] for p in inside], color='blue', s=3, label='Inside')\n",
    "plt.scatter([p[0] for p in outside], [p[1] for p in outside], color='red', s=3, label='Outside')\n",
    "circle = plt.Circle((0, 0), 1, fill=False, color='black')\n",
    "plt.gca().add_patch(circle)\n",
    "plt.axis('equal')\n",
    "plt.xlim(-1.05, 1.05)\n",
    "plt.ylim(-1.05, 1.05)\n",
    "plt.legend()\n",
    "plt.title(f'Оценка числа π методом Монте-Карло: {4.0 * len(inside) / visualize_samples:.4f}')\n",
    "plt.show()\n",
    "\n"
   ]
  },
  {
   "cell_type": "code",
   "execution_count": 47,
   "metadata": {},
   "outputs": [],
   "source": [
    "# Очистка после работы\n",
    "!rm spark_text.txt"
   ]
  },
  {
   "cell_type": "code",
   "execution_count": 49,
   "metadata": {},
   "outputs": [
    {
     "name": "stdout",
     "output_type": "stream",
     "text": [
      "RDD практика завершена!\n"
     ]
    }
   ],
   "source": [
    "# Остановка SparkContext\n",
    "sc.stop()\n",
    "\n",
    "print(\"RDD практика завершена!\")"
   ]
  }
 ],
 "metadata": {
  "kernelspec": {
   "display_name": "Python 3",
   "language": "python",
   "name": "python3"
  },
  "language_info": {
   "codemirror_mode": {
    "name": "ipython",
    "version": 3
   },
   "file_extension": ".py",
   "mimetype": "text/x-python",
   "name": "python",
   "nbconvert_exporter": "python",
   "pygments_lexer": "ipython3",
   "version": "3.8.10"
  }
 },
 "nbformat": 4,
 "nbformat_minor": 2
}
